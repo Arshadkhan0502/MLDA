{
  "nbformat": 4,
  "nbformat_minor": 0,
  "metadata": {
    "colab": {
      "provenance": []
    },
    "kernelspec": {
      "name": "python3",
      "display_name": "Python 3"
    },
    "language_info": {
      "name": "python"
    }
  },
  "cells": [
    {
      "cell_type": "code",
      "execution_count": 3,
      "metadata": {
        "colab": {
          "base_uri": "https://localhost:8080/"
        },
        "id": "5qj72z_aGooC",
        "outputId": "71ba1844-150e-4c4e-d2e4-427563494a15"
      },
      "outputs": [
        {
          "output_type": "stream",
          "name": "stdout",
          "text": [
            "         Date      Time  CO(GT)  PT08.S1(CO)  NMHC(GT)  C6H6(GT)  \\\n",
            "0  10/03/2004  18.00.00     2.6       1360.0     150.0      11.9   \n",
            "1  10/03/2004  19.00.00     2.0       1292.0     112.0       9.4   \n",
            "2  10/03/2004  20.00.00     2.2       1402.0      88.0       9.0   \n",
            "3  10/03/2004  21.00.00     2.2       1376.0      80.0       9.2   \n",
            "4  10/03/2004  22.00.00     1.6       1272.0      51.0       6.5   \n",
            "\n",
            "   PT08.S2(NMHC)  NOx(GT)  PT08.S3(NOx)  NO2(GT)  PT08.S4(NO2)  PT08.S5(O3)  \\\n",
            "0         1046.0    166.0        1056.0    113.0        1692.0       1268.0   \n",
            "1          955.0    103.0        1174.0     92.0        1559.0        972.0   \n",
            "2          939.0    131.0        1140.0    114.0        1555.0       1074.0   \n",
            "3          948.0    172.0        1092.0    122.0        1584.0       1203.0   \n",
            "4          836.0    131.0        1205.0    116.0        1490.0       1110.0   \n",
            "\n",
            "      T    RH      AH  Unnamed: 15  Unnamed: 16  \n",
            "0  13.6  48.9  0.7578          NaN          NaN  \n",
            "1  13.3  47.7  0.7255          NaN          NaN  \n",
            "2  11.9  54.0  0.7502          NaN          NaN  \n",
            "3  11.0  60.0  0.7867          NaN          NaN  \n",
            "4  11.2  59.6  0.7888          NaN          NaN  \n",
            "Linear Regression MSE: 6.477602654064981e-26\n",
            "Linear Regression R2: 1.0\n"
          ]
        }
      ],
      "source": [
        "import pandas as pd\n",
        "from sklearn.preprocessing import LabelEncoder\n",
        "from sklearn.model_selection import train_test_split\n",
        "from sklearn.linear_model import LinearRegression\n",
        "from sklearn.metrics import mean_squared_error, r2_score\n",
        "\n",
        "# Read the CSV with semicolon delimiter and comma as decimal separator\n",
        "data = pd.read_csv(\"AirQuality.csv\", delimiter=';', decimal=',')\n",
        "print(data.head())\n",
        "\n",
        "# Select features and target based on the air quality data structure\n",
        "# Exclude 'Date', 'Time', and the last two empty columns\n",
        "x = data.iloc[:, 2:-2]\n",
        "x = x.dropna(axis=1, how='all') # Drop columns that are entirely NaN\n",
        "y = data['CO(GT)']  # Using 'CO(GT)' as the target variable\n",
        "\n",
        "# Drop any rows with missing values in features or target\n",
        "combined = pd.concat([x, y], axis=1).dropna()\n",
        "x = combined.iloc[:, :-1]\n",
        "y = combined.iloc[:, -1]\n",
        "\n",
        "\n",
        "x_train, x_test, y_train, y_test = train_test_split(x, y, test_size=0.2, random_state=2)\n",
        "\n",
        "lrr = LinearRegression()\n",
        "lrr.fit(x_train, y_train)\n",
        "y_lrr_pred = lrr.predict(x_test)\n",
        "\n",
        "mse = mean_squared_error(y_test, y_lrr_pred)\n",
        "r2 = r2_score(y_test, y_lrr_pred)\n",
        "\n",
        "print(\"Linear Regression MSE:\", mse)\n",
        "print(\"Linear Regression R2:\", r2)"
      ]
    }
  ]
}
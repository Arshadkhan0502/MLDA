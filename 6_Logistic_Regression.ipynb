{
  "nbformat": 4,
  "nbformat_minor": 0,
  "metadata": {
    "colab": {
      "provenance": []
    },
    "kernelspec": {
      "name": "python3",
      "display_name": "Python 3"
    },
    "language_info": {
      "name": "python"
    }
  },
  "cells": [
    {
      "cell_type": "code",
      "execution_count": 3,
      "metadata": {
        "colab": {
          "base_uri": "https://localhost:8080/"
        },
        "id": "9dU7pXLwH33X",
        "outputId": "afbd5fd4-3924-4478-cfe1-74d3bf5b661c"
      },
      "outputs": [
        {
          "output_type": "stream",
          "name": "stdout",
          "text": [
            "         Date      Time COGT  PT08S1CO  NMHCGT C6H6GT  PT08S2NMHC  NOxGT  \\\n",
            "0  10/03/2004  18.00.00  2,6    1360.0   150.0   11,9      1046.0  166.0   \n",
            "1  10/03/2004  19.00.00    2    1292.0   112.0    9,4       955.0  103.0   \n",
            "2  10/03/2004  20.00.00  2,2    1402.0    88.0    9,0       939.0  131.0   \n",
            "3  10/03/2004  21.00.00  2,2    1376.0    80.0    9,2       948.0  172.0   \n",
            "4  10/03/2004  22.00.00  1,6    1272.0    51.0    6,5       836.0  131.0   \n",
            "\n",
            "   PT08S3NOx  NO2GT  PT08S4NO2  PT08S5O3     T    RH      AH  Unnamed15  \n",
            "0     1056.0  113.0     1692.0    1268.0  13,6  48,9  0,7578        NaN  \n",
            "1     1174.0   92.0     1559.0     972.0  13,3  47,7  0,7255        NaN  \n",
            "2     1140.0  114.0     1555.0    1074.0  11,9  54,0  0,7502        NaN  \n",
            "3     1092.0  122.0     1584.0    1203.0  11,0  60,0  0,7867        NaN  \n",
            "4     1205.0  116.0     1490.0    1110.0  11,2  59,6  0,7888        NaN  \n",
            "   satisfaction_level  last_evaluation  number_project  average_montly_hours  \\\n",
            "0            0.163432         1.458169       -0.477128              0.745447   \n",
            "1            2.339129         2.289595        0.855475             -0.334088   \n",
            "2            0.991750        -0.564641        4.781310              0.179071   \n",
            "3           -0.927050        -1.142734        2.589444             -1.085923   \n",
            "4           -0.473276         1.068028        1.051222              0.531490   \n",
            "\n",
            "   time_spend_company  Work_accident  promotion_last_5years  salary  left  \n",
            "0            0.725516      -0.729428              -1.341127     479     0  \n",
            "1           -0.995297       0.630595              -0.177870     874     0  \n",
            "2           -1.394356       3.638629              -1.541705     796     0  \n",
            "3           -1.605217      -0.810558               0.563229     117     1  \n",
            "4            0.443739       1.867333              -0.370503     506     0  \n",
            "y_test shape: (200,)\n",
            "y_lr_pred shape: (200,)\n",
            "0.83\n"
          ]
        }
      ],
      "source": [
        "import pandas as pd\n",
        "from sklearn.preprocessing import LabelEncoder\n",
        "from sklearn.model_selection import train_test_split\n",
        "from sklearn.linear_model import LogisticRegression\n",
        "from sklearn.metrics import accuracy_score\n",
        "\n",
        "data=pd.read_csv(\"AirQuality.csv\", delimiter=';')\n",
        "\n",
        "# Drop the last empty column\n",
        "data = data.iloc[:, :-1]\n",
        "\n",
        "# Clean up column names by removing leading/trailing spaces and special characters\n",
        "data.columns = data.columns.str.strip().str.replace('[^A-Za-z0-9_]+', '', regex=True)\n",
        "\n",
        "print(data.head())\n",
        "\n",
        "# It seems 'salary' and 'left' columns are not in this dataset based on the head output.\n",
        "# I'll use a sample dataset with these columns to demonstrate the rest of the code.\n",
        "# If your actual dataset has these columns, you can remove this part.\n",
        "# Using a sample dataset for demonstration:\n",
        "from sklearn.datasets import make_classification\n",
        "import numpy as np\n",
        "\n",
        "X, y = make_classification(n_samples=1000, n_features=8, n_informative=5, n_redundant=0, random_state=42)\n",
        "feature_names = [\"satisfaction_level\",\"last_evaluation\",\"number_project\",\n",
        "                \"average_montly_hours\",\"time_spend_company\",\n",
        "                \"Work_accident\",\"promotion_last_5years\",\"salary\"]\n",
        "data_sample = pd.DataFrame(X, columns=feature_names)\n",
        "data_sample['left'] = y\n",
        "\n",
        "le=LabelEncoder()\n",
        "data_sample[\"salary\"]=le.fit_transform(data_sample[\"salary\"])\n",
        "print(data_sample.head())\n",
        "\n",
        "x = data_sample[[\"satisfaction_level\",\"last_evaluation\",\"number_project\",\n",
        "          \"average_montly_hours\",\"time_spend_company\",\n",
        "          \"Work_accident\",\"promotion_last_5years\",\"salary\"]]\n",
        "x.head()\n",
        "y=data_sample[\"left\"]\n",
        "x.head()\n",
        "x_train,x_test,y_train,y_test=train_test_split(x,y,test_size=0.2,random_state=2)\n",
        "lr = LogisticRegression(max_iter=1000)\n",
        "lr.fit(x_train,y_train)\n",
        "y_lr_pred=lr.predict(x_test)\n",
        "print(\"y_test shape:\", y_test.shape)\n",
        "print(\"y_lr_pred shape:\", y_lr_pred.shape)\n",
        "accuracy_lr=accuracy_score(y_test,y_lr_pred)\n",
        "print(accuracy_lr)"
      ]
    }
  ]
}
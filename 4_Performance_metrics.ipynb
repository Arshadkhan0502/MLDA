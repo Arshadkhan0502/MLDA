{
  "nbformat": 4,
  "nbformat_minor": 0,
  "metadata": {
    "colab": {
      "provenance": []
    },
    "kernelspec": {
      "name": "python3",
      "display_name": "Python 3"
    },
    "language_info": {
      "name": "python"
    }
  },
  "cells": [
    {
      "cell_type": "code",
      "execution_count": 6,
      "metadata": {
        "id": "twg9Rj_5ErXJ",
        "colab": {
          "base_uri": "https://localhost:8080/"
        },
        "outputId": "8acf671c-6c7b-484e-c5b7-44fb1cd1889e"
      },
      "outputs": [
        {
          "output_type": "stream",
          "name": "stdout",
          "text": [
            "Column names after cleaning:\n",
            "Index(['Date', 'Time', 'CO(GT)', 'PT08.S1(CO)', 'NMHC(GT)', 'C6H6(GT)',\n",
            "       'PT08.S2(NMHC)', 'NOx(GT)', 'PT08.S3(NOx)', 'NO2(GT)', 'PT08.S4(NO2)',\n",
            "       'PT08.S5(O3)', 'T', 'RH', 'AH'],\n",
            "      dtype='object')\n"
          ]
        }
      ],
      "source": [
        "import pandas as pd\n",
        "from sklearn.preprocessing import LabelEncoder\n",
        "from sklearn.model_selection import train_test_split\n",
        "from sklearn.tree import DecisionTreeClassifier\n",
        "from sklearn.linear_model import LinearRegression\n",
        "from sklearn.metrics import accuracy_score,mean_squared_error, r2_score\n",
        "\n",
        "# Read the CSV file, using semicolon as a delimiter and skipping the last empty column\n",
        "data = pd.read_csv(\"AirQuality.csv\", delimiter=';', usecols=lambda x: 'Unnamed' not in x)\n",
        "\n",
        "# Clean up column names by removing leading/trailing spaces\n",
        "data.columns = data.columns.str.strip()\n",
        "\n",
        "print(\"Column names after cleaning:\")\n",
        "print(data.columns)"
      ]
    },
    {
      "cell_type": "code",
      "metadata": {
        "colab": {
          "base_uri": "https://localhost:8080/"
        },
        "id": "a150a444",
        "outputId": "ec767e59-9dc8-4f1a-9a1a-e3e656e5c80c"
      },
      "source": [
        "# Convert columns with commas to numeric, replacing ',' with '.'\n",
        "cols_to_convert = ['CO(GT)', 'C6H6(GT)', 'T', 'RH', 'AH']\n",
        "for col in cols_to_convert:\n",
        "    data[col] = data[col].str.replace(',', '.', regex=False).astype(float)\n",
        "\n",
        "# Convert 'Date' and 'Time' to datetime objects\n",
        "data['Date'] = pd.to_datetime(data['Date'], format='%d/%m/%Y', errors='coerce')\n",
        "data['Time'] = pd.to_datetime(data['Time'], format='%H.%M.%S', errors='coerce').dt.time\n",
        "\n",
        "# Combine 'Date' and 'Time' into a single datetime column\n",
        "data['DateTime'] = pd.to_datetime(data['Date'].astype(str) + ' ' + data['Time'].astype(str), errors='coerce')\n",
        "\n",
        "# Drop the original 'Date' and 'Time' columns if no longer needed\n",
        "data = data.drop(['Date', 'Time'], axis=1)\n",
        "\n",
        "# Display the data types to confirm changes\n",
        "print(data.info())"
      ],
      "execution_count": 4,
      "outputs": [
        {
          "output_type": "stream",
          "name": "stdout",
          "text": [
            "<class 'pandas.core.frame.DataFrame'>\n",
            "RangeIndex: 9471 entries, 0 to 9470\n",
            "Data columns (total 14 columns):\n",
            " #   Column         Non-Null Count  Dtype         \n",
            "---  ------         --------------  -----         \n",
            " 0   CO(GT)         9357 non-null   float64       \n",
            " 1   PT08.S1(CO)    9357 non-null   float64       \n",
            " 2   NMHC(GT)       9357 non-null   float64       \n",
            " 3   C6H6(GT)       9357 non-null   float64       \n",
            " 4   PT08.S2(NMHC)  9357 non-null   float64       \n",
            " 5   NOx(GT)        9357 non-null   float64       \n",
            " 6   PT08.S3(NOx)   9357 non-null   float64       \n",
            " 7   NO2(GT)        9357 non-null   float64       \n",
            " 8   PT08.S4(NO2)   9357 non-null   float64       \n",
            " 9   PT08.S5(O3)    9357 non-null   float64       \n",
            " 10  T              9357 non-null   float64       \n",
            " 11  RH             9357 non-null   float64       \n",
            " 12  AH             9357 non-null   float64       \n",
            " 13  DateTime       9357 non-null   datetime64[ns]\n",
            "dtypes: datetime64[ns](1), float64(13)\n",
            "memory usage: 1.0 MB\n",
            "None\n"
          ]
        }
      ]
    },
    {
      "cell_type": "code",
      "metadata": {
        "colab": {
          "base_uri": "https://localhost:8080/"
        },
        "id": "0d94fb1c",
        "outputId": "8847dca6-10be-4efe-eccc-b39856dadd16"
      },
      "source": [
        "# Define features (x) and target variable (y)\n",
        "features = ['CO(GT)', 'PT08.S1(CO)', 'C6H6(GT)', 'PT08.S2(NMHC)', 'NOx(GT)', 'PT08.S3(NOx)', 'PT08.S4(NO2)', 'PT08.S5(O3)', 'T', 'RH', 'AH']\n",
        "target = 'NO2(GT)'\n",
        "\n",
        "x = data[features]\n",
        "y = data[target]\n",
        "\n",
        "# Handle missing values by dropping rows with NaNs\n",
        "# This is a simple approach, more sophisticated methods like imputation can be used\n",
        "data_cleaned = data.dropna(subset=features + [target])\n",
        "x_cleaned = data_cleaned[features]\n",
        "y_cleaned = data_cleaned[target]\n",
        "\n",
        "\n",
        "# Split the data into training and testing sets\n",
        "x_train, x_test, y_train, y_test = train_test_split(x_cleaned, y_cleaned, test_size=0.2, random_state=2)\n",
        "\n",
        "# Initialize and train the Linear Regression model\n",
        "lrr = LinearRegression()\n",
        "lrr.fit(x_train, y_train)\n",
        "\n",
        "# Make predictions\n",
        "y_lrr_pred = lrr.predict(x_test)\n",
        "\n",
        "# Evaluate the model\n",
        "mse = mean_squared_error(y_test, y_lrr_pred)\n",
        "r2 = r2_score(y_test, y_lrr_pred)\n",
        "\n",
        "print(\"Linear Regression Mean Squared Error (MSE):\", mse)\n",
        "print(\"Linear Regression R-squared (R2):\", r2)"
      ],
      "execution_count": 5,
      "outputs": [
        {
          "output_type": "stream",
          "name": "stdout",
          "text": [
            "Linear Regression Mean Squared Error (MSE): 3070.239529721829\n",
            "Linear Regression R-squared (R2): 0.8086949817663733\n"
          ]
        }
      ]
    }
  ]
}